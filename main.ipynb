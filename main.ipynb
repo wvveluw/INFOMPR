{
 "cells": [
  {
   "cell_type": "markdown",
   "metadata": {},
   "source": [
    "## Dependencies"
   ]
  },
  {
   "cell_type": "code",
   "execution_count": 1,
   "metadata": {},
   "outputs": [],
   "source": [
    "import numpy as np\n",
    "import pandas as pd\n",
    "import matplotlib.pyplot as plt\n",
    "\n",
    "from sklearn.model_selection import GridSearchCV, StratifiedKFold\n",
    "from sklearn.metrics import ConfusionMatrixDisplay"
   ]
  },
  {
   "cell_type": "markdown",
   "metadata": {},
   "source": [
    "## Data Imports"
   ]
  },
  {
   "cell_type": "code",
   "execution_count": 2,
   "metadata": {},
   "outputs": [],
   "source": [
    "mnist_data = pd.read_csv(\"data/mnist.csv\").to_numpy()\n",
    "labels = mnist_data[:, 0]\n",
    "digits = mnist_data[:, 1:]"
   ]
  },
  {
   "cell_type": "markdown",
   "metadata": {},
   "source": [
    "## Sanity Checks"
   ]
  },
  {
   "cell_type": "code",
   "execution_count": 3,
   "metadata": {},
   "outputs": [
    {
     "data": {
      "image/png": "[encoded data removed]",
      "text/plain": [
       "<Figure size 432x288 with 1 Axes>"
      ]
     },
     "metadata": {
      "needs_background": "light"
     },
     "output_type": "display_data"
    }
   ],
   "source": [
    "img_size = 28\n",
    "plt.imshow(digits[0].reshape(img_size, img_size))\n",
    "plt.show()"
   ]
  },
  {
   "cell_type": "markdown",
   "metadata": {},
   "source": [
    "## StratifiedKFold & GridSearchCV"
   ]
  },
  {
   "cell_type": "code",
   "execution_count": 5,
   "metadata": {},
   "outputs": [],
   "source": [
    "def run_predictions(model, model_param_grid, X_train, X_test, y_train, y_test):\n",
    "        \n",
    "    folds = StratifiedKFold(5, shuffle=True, random_state = 32)\n",
    "    \n",
    "    clf = GridSearchCV(model, model_param_grid, cv = folds, scoring='accuracy')\n",
    "    clf.fit(X_train, y_train)\n",
    "    \n",
    "    \n",
    "    # try:\n",
    "    #     feature_importances = clf.best_estimator_.feature_importances_\n",
    "    # except:\n",
    "    #     feature_importances = clf.best_estimator_.coef_[0]\n",
    "        \n",
    "    # importances = pd.DataFrame(data={\n",
    "    # 'Attribute': cv.get_feature_names_out(),\n",
    "    # 'Importance': feature_importances\n",
    "    # })\n",
    "    # importances = importances.sort_values(by='Importance', ascending=False)\n",
    "    # print(importances)\n",
    "    \n",
    "    mtrx = ConfusionMatrixDisplay.from_estimator(clf, X_test, y_test)\n",
    "    preds = clf.predict(X_test)\n",
    "    return mtrx , clf\n",
    "#     return {\"preds\": preds,\"clf\": clf}"
   ]
  },
  {
   "cell_type": "code",
   "execution_count": null,
   "metadata": {},
   "outputs": [],
   "source": []
  }
 ],
 "metadata": {
  "interpreter": {
   "hash": "c0fb74b936eae7de9f8c9f919a6517f152be213a55449853fb8f5e5b7a54000a"
  },
  "kernelspec": {
   "display_name": "Python 3.9.6 64-bit ('.env': venv)",
   "language": "python",
   "name": "python3"
  },
  "language_info": {
   "codemirror_mode": {
    "name": "ipython",
    "version": 3
   },
   "file_extension": ".py",
   "mimetype": "text/x-python",
   "name": "python",
   "nbconvert_exporter": "python",
   "pygments_lexer": "ipython3",
   "version": "3.9.6"
  },
  "orig_nbformat": 4
 },
 "nbformat": 4,
 "nbformat_minor": 2
}
